{
  "nbformat": 4,
  "nbformat_minor": 0,
  "metadata": {
    "colab": {
      "name": "Projeto_2.py",
      "provenance": [],
      "collapsed_sections": [],
      "authorship_tag": "ABX9TyMYXTO3pKAEAQ38L9RsNaGI",
      "include_colab_link": true
    },
    "kernelspec": {
      "name": "python3",
      "display_name": "Python 3"
    },
    "language_info": {
      "name": "python"
    }
  },
  "cells": [
    {
      "cell_type": "markdown",
      "metadata": {
        "id": "view-in-github",
        "colab_type": "text"
      },
      "source": [
        "<a href=\"https://colab.research.google.com/github/Cinthiacs/Primeiro-Projeto-Crash-Python-Coursera/blob/main/Projeto_2_python.ipynb\" target=\"_parent\"><img src=\"https://colab.research.google.com/assets/colab-badge.svg\" alt=\"Open In Colab\"/></a>"
      ]
    },
    {
      "cell_type": "markdown",
      "source": [
        "Armazenando o arquivo na variavel File\n",
        "Realizando o tratamento da biblioteca csv para armazenar dentro da variavel file\n",
        "percorre as linhas e printa\n",
        "i indice da linha"
      ],
      "metadata": {
        "id": "r8QPiH3wt_1p"
      }
    },
    {
      "cell_type": "markdown",
      "source": [
        "Importando arquivo.csv\n",
        "Nomeando como tabela\n",
        "imprimindo tabela atraves da biblioteca pandas"
      ],
      "metadata": {
        "id": "Qm5eOkTm4I8h"
      }
    },
    {
      "cell_type": "code",
      "source": [
        "import pandas as pd\n",
        "import re\n",
        "from collections import Counter\n",
        "from collections import defaultdict\n",
        "tabela = pd.read_csv('/Logs_eventos.csv',sep=',')\n",
        "print(tabela)"
      ],
      "metadata": {
        "colab": {
          "base_uri": "https://localhost:8080/"
        },
        "id": "v2_8Ipfon0lh",
        "outputId": "dcc3fb79-78ab-4e5a-d94a-8096c0b1d583"
      },
      "execution_count": 209,
      "outputs": [
        {
          "output_type": "stream",
          "name": "stdout",
          "text": [
            "                     Nível  ...                                Categoria da Tarefa\n",
            "Aviso  02/02/2022 11:52:31  ...  As configurações de permissão específico do ap...\n",
            "Aviso  02/02/2022 11:42:11  ...  As configurações de permissão específico do ap...\n",
            "Aviso  02/02/2022 11:41:37  ...  As configurações de permissão específico do ap...\n",
            "Aviso  02/02/2022 11:16:23  ...  As configurações de permissão específico do ap...\n",
            "Aviso  02/02/2022 11:16:23  ...  As configurações de permissão específico do ap...\n",
            "Aviso  02/02/2022 11:16:23  ...  As configurações de permissão específico do ap...\n",
            "Aviso  02/02/2022 11:15:40  ...  As configurações de permissão específico do ap...\n",
            "Aviso  02/02/2022 11:15:00  ...  As configurações de permissão específico do ap...\n",
            "Aviso  02/02/2022 11:13:19  ...  As configurações de permissão específico do ap...\n",
            "Aviso  02/02/2022 11:13:19  ...  As configurações de permissão específico do ap...\n",
            "Aviso  02/02/2022 11:11:26  ...  O driver \\Driver\\WudfRd falhou ao carregar par...\n",
            "Aviso  02/02/2022 10:32:51  ...  As configurações de permissão específico do ap...\n",
            "Aviso  02/02/2022 10:07:12  ...  As configurações de permissão específico do ap...\n",
            "Aviso  02/02/2022 10:03:44  ...  As configurações de permissão específico do ap...\n",
            "Aviso  02/02/2022 10:03:44  ...  As configurações de permissão específico do ap...\n",
            "Aviso  02/02/2022 10:02:56  ...  As configurações de permissão específico do ap...\n",
            "Aviso  02/02/2022 10:01:25  ...  As configurações de permissão específico do ap...\n",
            "Aviso  02/02/2022 10:01:25  ...  As configurações de permissão específico do ap...\n",
            "Aviso  02/02/2022 09:56:18  ...  O NtpClient não conseguiu definir um mesmo nív...\n",
            "Aviso  02/02/2022 09:56:15  ...  A Configuração Automática de WLAN detectou con...\n",
            "Aviso  02/02/2022 09:55:40  ...  O NtpClient não conseguiu definir um mesmo nív...\n",
            "\n",
            "[21 rows x 5 columns]\n"
          ]
        }
      ]
    },
    {
      "cell_type": "markdown",
      "source": [
        "Imprimindo a coluna Aviso atraves da coluna Index (pandas nomeia a primeira coluna como Index)."
      ],
      "metadata": {
        "id": "ObDlhcII4mTS"
      }
    },
    {
      "cell_type": "markdown",
      "source": [
        "Transformar coluna chamada index "
      ],
      "metadata": {
        "id": "5w3ZThbEcPyz"
      }
    },
    {
      "cell_type": "markdown",
      "source": [
        ""
      ],
      "metadata": {
        "id": "qtNTlETIol6h"
      }
    },
    {
      "cell_type": "markdown",
      "source": [
        "Procurando a palavra aviso no find all retorna lista vazia onde a palavra nao existe\n",
        "Removendo as listas vazias"
      ],
      "metadata": {
        "id": "4Ny2-1X5o6-z"
      }
    },
    {
      "cell_type": "markdown",
      "source": [
        ""
      ],
      "metadata": {
        "id": "6U5RxNGJr1W2"
      }
    },
    {
      "cell_type": "code",
      "source": [
        "tabela.columns\n",
        "tabela.index\n",
        "\n",
        "df_busca = tabela.index.str.findall('Aviso.*') \n",
        "df_busca = pd.DataFrame(df_busca)\n",
        "df_busca[df_busca.index.map(lambda d: len(str(d))) > 0]\n",
        "\n",
        "df_busca = df_busca[df_busca[df_busca.columns[0]].map(lambda d: len(d) > 0)] #\n",
        "len(df_busca)\n",
        "\n"
      ],
      "metadata": {
        "colab": {
          "base_uri": "https://localhost:8080/"
        },
        "id": "b5b2pOom1j4X",
        "outputId": "d9aca619-af8e-41c9-c2d7-78e0c1772216"
      },
      "execution_count": 210,
      "outputs": [
        {
          "output_type": "execute_result",
          "data": {
            "text/plain": [
              "21"
            ]
          },
          "metadata": {},
          "execution_count": 210
        }
      ]
    },
    {
      "cell_type": "code",
      "source": [
        "#Transformar index em coluna\n",
        "#tabela.[''].str.findall('x.*')\n",
        "#print(tabela.index)\n",
        "#tabela = tabela.reset_index(level=0, drop=True)\n",
        "#print(tabela.columns)\n",
        "#print(tabela['index'])\n",
        "#print(tabela[['index']].count())\n",
        "#tabela['index'].str.findall('Aviso.*')\n",
        "#print (tabela['index'].str.findall('Aviso f.*'))\n",
        "#df_busca = tabela['index'].str.findall('Aviso.*') #procurando a palavra aviso f no find all retorna lista vazia onde a palavra nao existe\n",
        "#df_busca = pd.DataFrame(df_busca) #\n",
        "#print (df_busca[df_busca!=''])\n",
        "#df_busca[df_busca['index'].map(lambda d: len(d)) > 0]\n",
        "\n",
        "#df_busca = df_busca[df_busca[df_busca.columns[0]].map(lambda d: len(d) > 0)] #removendo as listas vazias\n",
        "#print (len(df_busca))\n",
        "\n"
      ],
      "metadata": {
        "colab": {
          "base_uri": "https://localhost:8080/",
          "height": 264
        },
        "id": "9Pvm5CwaHhdO",
        "outputId": "bd9c91f5-baf2-4843-9c2e-8222eba1c0d4"
      },
      "execution_count": null,
      "outputs": [
        {
          "output_type": "stream",
          "name": "stdout",
          "text": [
            "<built-in method index of str object at 0x7fb39f0813f0>\n"
          ]
        },
        {
          "output_type": "error",
          "ename": "AttributeError",
          "evalue": "ignored",
          "traceback": [
            "\u001b[0;31m---------------------------------------------------------------------------\u001b[0m",
            "\u001b[0;31mAttributeError\u001b[0m                            Traceback (most recent call last)",
            "\u001b[0;32m<ipython-input-20-30a11234bb93>\u001b[0m in \u001b[0;36m<module>\u001b[0;34m()\u001b[0m\n\u001b[1;32m      3\u001b[0m \u001b[0;31m#tabela.[''].str.findall('x.*')\u001b[0m\u001b[0;34m\u001b[0m\u001b[0;34m\u001b[0m\u001b[0;34m\u001b[0m\u001b[0m\n\u001b[1;32m      4\u001b[0m \u001b[0mprint\u001b[0m\u001b[0;34m(\u001b[0m\u001b[0mtabela\u001b[0m\u001b[0;34m.\u001b[0m\u001b[0mindex\u001b[0m\u001b[0;34m)\u001b[0m\u001b[0;34m\u001b[0m\u001b[0;34m\u001b[0m\u001b[0m\n\u001b[0;32m----> 5\u001b[0;31m \u001b[0mtabela\u001b[0m \u001b[0;34m=\u001b[0m \u001b[0mtabela\u001b[0m\u001b[0;34m.\u001b[0m\u001b[0mreset_index\u001b[0m\u001b[0;34m(\u001b[0m\u001b[0mlevel\u001b[0m\u001b[0;34m=\u001b[0m\u001b[0;36m0\u001b[0m\u001b[0;34m,\u001b[0m \u001b[0mdrop\u001b[0m\u001b[0;34m=\u001b[0m\u001b[0;32mTrue\u001b[0m\u001b[0;34m)\u001b[0m\u001b[0;34m\u001b[0m\u001b[0;34m\u001b[0m\u001b[0m\n\u001b[0m\u001b[1;32m      6\u001b[0m \u001b[0;31m#print(tabela.columns)\u001b[0m\u001b[0;34m\u001b[0m\u001b[0;34m\u001b[0m\u001b[0;34m\u001b[0m\u001b[0m\n\u001b[1;32m      7\u001b[0m \u001b[0;31m#print(tabela['index'])\u001b[0m\u001b[0;34m\u001b[0m\u001b[0;34m\u001b[0m\u001b[0;34m\u001b[0m\u001b[0m\n",
            "\u001b[0;31mAttributeError\u001b[0m: 'str' object has no attribute 'reset_index'"
          ]
        }
      ]
    }
  ]
}