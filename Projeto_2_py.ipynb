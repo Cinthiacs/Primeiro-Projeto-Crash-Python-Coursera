{
  "nbformat": 4,
  "nbformat_minor": 0,
  "metadata": {
    "colab": {
      "name": "Projeto_2.py",
      "provenance": [],
      "collapsed_sections": [],
      "authorship_tag": "ABX9TyNL0NuxTEOhkI1xAo5RNrZT",
      "include_colab_link": true
    },
    "kernelspec": {
      "name": "python3",
      "display_name": "Python 3"
    },
    "language_info": {
      "name": "python"
    }
  },
  "cells": [
    {
      "cell_type": "markdown",
      "metadata": {
        "id": "view-in-github",
        "colab_type": "text"
      },
      "source": [
        "<a href=\"https://colab.research.google.com/github/Cinthiacs/Primeiro-Projeto-Crash-Python-Coursera/blob/main/Projeto_2_py.ipynb\" target=\"_parent\"><img src=\"https://colab.research.google.com/assets/colab-badge.svg\" alt=\"Open In Colab\"/></a>"
      ]
    },
    {
      "cell_type": "markdown",
      "source": [
        "Armazenando o arquivo.csv na variavel 'Tabela' / \n",
        "Realizando o tratamento da biblioteca pandas para exibir o arquivo em colunas de modo mais organizado / \n",
        "exibindo a tabela (print tabela)\n",
        "\n"
      ],
      "metadata": {
        "id": "r8QPiH3wt_1p"
      }
    },
    {
      "cell_type": "code",
      "source": [
        "import pandas as pd\n",
        "import re\n",
        "tabela = pd.read_csv('/Logs_eventos.csv',sep=',')\n",
        "print(tabela)"
      ],
      "metadata": {
        "colab": {
          "base_uri": "https://localhost:8080/"
        },
        "id": "v2_8Ipfon0lh",
        "outputId": "4e0e7fe7-2a74-4dbb-9b38-67ec0167bd7c"
      },
      "execution_count": 294,
      "outputs": [
        {
          "output_type": "stream",
          "name": "stdout",
          "text": [
            "                     Nível  ...                                Categoria da Tarefa\n",
            "Aviso  02/02/2022 11:52:31  ...  As configurações de permissão específico do ap...\n",
            "Aviso  02/02/2022 11:42:11  ...  As configurações de permissão específico do ap...\n",
            "Aviso  02/02/2022 11:41:37  ...  As configurações de permissão específico do ap...\n",
            "Aviso  02/02/2022 11:16:23  ...  As configurações de permissão específico do ap...\n",
            "Aviso  02/02/2022 11:16:23  ...  As configurações de permissão específico do ap...\n",
            "Aviso  02/02/2022 11:16:23  ...  As configurações de permissão específico do ap...\n",
            "Aviso  02/02/2022 11:15:40  ...  As configurações de permissão específico do ap...\n",
            "Aviso  02/02/2022 11:15:00  ...  As configurações de permissão específico do ap...\n",
            "Aviso  02/02/2022 11:13:19  ...  As configurações de permissão específico do ap...\n",
            "Aviso  02/02/2022 11:13:19  ...  As configurações de permissão específico do ap...\n",
            "Aviso  02/02/2022 11:11:26  ...  O driver \\Driver\\WudfRd falhou ao carregar par...\n",
            "Aviso  02/02/2022 10:32:51  ...  As configurações de permissão específico do ap...\n",
            "Aviso  02/02/2022 10:07:12  ...  As configurações de permissão específico do ap...\n",
            "Aviso  02/02/2022 10:03:44  ...  As configurações de permissão específico do ap...\n",
            "Aviso  02/02/2022 10:03:44  ...  As configurações de permissão específico do ap...\n",
            "Aviso  02/02/2022 10:02:56  ...  As configurações de permissão específico do ap...\n",
            "Aviso  02/02/2022 10:01:25  ...  As configurações de permissão específico do ap...\n",
            "Aviso  02/02/2022 10:01:25  ...  As configurações de permissão específico do ap...\n",
            "Aviso  02/02/2022 09:56:18  ...  O NtpClient não conseguiu definir um mesmo nív...\n",
            "Aviso  02/02/2022 09:56:15  ...  A Configuração Automática de WLAN detectou con...\n",
            "Aviso  02/02/2022 09:55:40  ...  O NtpClient não conseguiu definir um mesmo nív...\n",
            "\n",
            "[21 rows x 5 columns]\n"
          ]
        }
      ]
    },
    {
      "cell_type": "markdown",
      "source": [
        "*  Atraves da função de_busca (data frame)\n",
        "*  Procurando todas as palavras 'Aviso' atraves da função *findall* utilizando a a expressão regular .* para não procurar depois do *\n",
        "*função df_busca para remover as listas vazias\n",
        "*imprimindo a função df_busca"
      ],
      "metadata": {
        "id": "gJ56LlFp9Nur"
      }
    },
    {
      "cell_type": "code",
      "source": [
        "df_busca = tabela['index'].str.findall('Aviso.*')\n",
        "df_busca = pd.DataFrame(df_busca)\n",
        "print (df_busca[df_busca!=''])\n",
        "df_busca[df_busca['index'].map(lambda d: len(d)) > 0]\n",
        "df_busca = df_busca[df_busca[df_busca.columns[0]].map(lambda d: len(d) > 0)] \n",
        "print (len(df_busca))"
      ],
      "metadata": {
        "colab": {
          "base_uri": "https://localhost:8080/"
        },
        "id": "XwlJ3-hH6Vix",
        "outputId": "8ee48ede-42b3-40f1-866e-3d997e52238b"
      },
      "execution_count": 280,
      "outputs": [
        {
          "output_type": "stream",
          "name": "stdout",
          "text": [
            "      index\n",
            "0   [Aviso]\n",
            "1   [Aviso]\n",
            "2   [Aviso]\n",
            "3   [Aviso]\n",
            "4   [Aviso]\n",
            "5   [Aviso]\n",
            "6   [Aviso]\n",
            "7   [Aviso]\n",
            "8   [Aviso]\n",
            "9   [Aviso]\n",
            "10  [Aviso]\n",
            "11  [Aviso]\n",
            "12  [Aviso]\n",
            "13  [Aviso]\n",
            "14  [Aviso]\n",
            "15  [Aviso]\n",
            "16  [Aviso]\n",
            "17  [Aviso]\n",
            "18  [Aviso]\n",
            "19  [Aviso]\n",
            "20  [Aviso]\n",
            "21\n"
          ]
        }
      ]
    },
    {
      "cell_type": "markdown",
      "source": [
        "função para contar quantas palavras 'Aviso existem na coluna index"
      ],
      "metadata": {
        "id": "WkkaGdheDGGs"
      }
    },
    {
      "cell_type": "code",
      "source": [
        "df_busca = tabela.index.str.findall('Aviso.*') \n",
        "df_busca = pd.DataFrame(df_busca)\n",
        "df_busca[df_busca.index.map(lambda d: len(str(d))) > 0]\n",
        "\n",
        "df_busca = df_busca[df_busca[df_busca.columns[0]].map(lambda d: len(d) > 0)] \n",
        "len(df_busca)"
      ],
      "metadata": {
        "colab": {
          "base_uri": "https://localhost:8080/"
        },
        "id": "b5b2pOom1j4X",
        "outputId": "19640553-b10c-4494-9389-3f474a2b7428"
      },
      "execution_count": 223,
      "outputs": [
        {
          "output_type": "execute_result",
          "data": {
            "text/plain": [
              "21"
            ]
          },
          "metadata": {},
          "execution_count": 223
        }
      ]
    },
    {
      "cell_type": "code",
      "source": [
        "df_busca = tabela.index.str.findall('permissão')\n",
        "df_busca = pd.DataFrame(df_busca)\n",
        "df_busca[df_busca.index.map(lambda d: len(str(d))) > 0]\n",
        "df_busca = df_busca[df_busca[df_busca.columns[0]].map(lambda d: len(d) > 0)] \n",
        "len(df_busca)"
      ],
      "metadata": {
        "colab": {
          "base_uri": "https://localhost:8080/"
        },
        "id": "cy-QWFI0sejM",
        "outputId": "0a9f50ea-5a98-48c4-e7b4-e33677633f4f"
      },
      "execution_count": 231,
      "outputs": [
        {
          "output_type": "execute_result",
          "data": {
            "text/plain": [
              "0"
            ]
          },
          "metadata": {},
          "execution_count": 231
        }
      ]
    }
  ]
}